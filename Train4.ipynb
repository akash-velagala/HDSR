{
 "cells": [
  {
   "cell_type": "code",
   "execution_count": 1,
   "metadata": {},
   "outputs": [],
   "source": [
    "import os.path\n",
    "import cv2\n",
    "import imutils\n",
    "from imutils import contours\n",
    "import matplotlib.pyplot as plt\n",
    "import matplotlib.image as mpimg\n",
    "import numpy as np\n",
    "from skimage import img_as_ubyte, img_as_uint    \n",
    "from skimage.color import rgb2gray\n",
    "from keras.models import load_model\n",
    "import os\n",
    "import tensorflow as tf"
   ]
  },
  {
   "cell_type": "code",
   "execution_count": 18,
   "metadata": {},
   "outputs": [
    {
     "name": "stderr",
     "output_type": "stream",
     "text": [
      "C:\\Users\\reddy\\Anaconda3\\lib\\site-packages\\ipykernel_launcher.py:9: FutureWarning: The behavior of rgb2gray will change in scikit-image 0.19. Currently, rgb2gray allows 2D grayscale image to be passed as inputs and leaves them unmodified as outputs. Starting from version 0.19, 2D arrays will be treated as 1D images with 3 channels.\n",
      "  if __name__ == '__main__':\n"
     ]
    }
   ],
   "source": [
    "train = []\n",
    "for i in os.listdir(r\"C:\\Users\\reddy\\Documents\\Python Scripts\\dataset\\sev\"):\n",
    "    image = cv2.imread(os.path.join(os.path.normpath(r\"C:\\Users\\reddy\\Documents\\Python Scripts\\dataset\\sev\"), i))\n",
    "    #print(i)\n",
    "    gray = cv2.cvtColor(image, cv2.COLOR_BGR2GRAY)\n",
    "    #gray= cv2.bitwise_not(gray)\n",
    "    \n",
    "\n",
    "    img_gray = rgb2gray(gray)\n",
    "    im_gray_u8 = img_as_ubyte(img_gray)\n",
    "    im_gray_u16 = img_as_uint(img_gray)\n",
    "\n",
    "    (thresh, im_binary) = cv2.threshold(im_gray_u16, 128, 255, cv2.THRESH_BINARY_INV | cv2.THRESH_OTSU)\n",
    "\n",
    "    img_resized = cv2.resize(im_binary,(28,28), interpolation=cv2.INTER_NEAREST_EXACT)\n",
    "    #im_gray_invert = 255 - img_resized\n",
    "    img = np.zeros((28, 28))\n",
    "    img_resized = cv2.normalize(img_resized, \n",
    "                        img, 0 , 50, cv2.NORM_MINMAX) \n",
    "    #print(im_gray_invert)\n",
    "\n",
    "    im_final = img_resized.reshape(28,28)\n",
    "\n",
    "    train.append(im_final)"
   ]
  },
  {
   "cell_type": "code",
   "execution_count": 25,
   "metadata": {},
   "outputs": [
    {
     "name": "stdout",
     "output_type": "stream",
     "text": [
      "Epoch 1/2\n",
      "15/15 [==============================] - 0s 17ms/step - loss: 462.7970 - accuracy: 0.2000\n",
      "Epoch 2/2\n",
      "15/15 [==============================] - 0s 17ms/step - loss: 48.5471 - accuracy: 0.6667\n"
     ]
    },
    {
     "data": {
      "text/plain": [
       "<tensorflow.python.keras.callbacks.History at 0x1f367f259e8>"
      ]
     },
     "execution_count": 25,
     "metadata": {},
     "output_type": "execute_result"
    }
   ],
   "source": [
    "import keras\n",
    "model = load_model(\"trained_model3.h5\")\n",
    "model.compile(loss=keras.losses.categorical_crossentropy,\n",
    "              optimizer=keras.optimizers.Adam(),\n",
    "              metrics=['accuracy'])\n",
    "\n",
    "y = [[7] * 15]\n",
    "y = np.array(y)\n",
    "y = y.reshape((15, 1))\n",
    "\n",
    "train = np.array(train)\n",
    "\n",
    "train = train.reshape(15, 28, 28, 1)\n",
    "y = keras.utils.to_categorical(y, 10)\n",
    "\n",
    "model.fit(train, y, steps_per_epoch=15,\n",
    "                        epochs=2, verbose=1)"
   ]
  },
  {
   "cell_type": "code",
   "execution_count": 27,
   "metadata": {},
   "outputs": [
    {
     "name": "stdout",
     "output_type": "stream",
     "text": [
      "7\n"
     ]
    }
   ],
   "source": [
    "ans = model.predict(train[1].reshape(1, 28, 28, 1))\n",
    "print(np.argmax(ans))"
   ]
  },
  {
   "cell_type": "code",
   "execution_count": 28,
   "metadata": {},
   "outputs": [],
   "source": [
    "model.save(\"trained_model6.h5\")"
   ]
  }
 ],
 "metadata": {
  "interpreter": {
   "hash": "61c669b71af8a4bba1683ff9672a5a4202034dc0dad7002d4c0b008a64b431ac"
  },
  "kernelspec": {
   "display_name": "Python 3.7.1 64-bit ('base': conda)",
   "language": "python",
   "name": "python3"
  },
  "language_info": {
   "codemirror_mode": {
    "name": "ipython",
    "version": 3
   },
   "file_extension": ".py",
   "mimetype": "text/x-python",
   "name": "python",
   "nbconvert_exporter": "python",
   "pygments_lexer": "ipython3",
   "version": "3.7.1"
  },
  "orig_nbformat": 4
 },
 "nbformat": 4,
 "nbformat_minor": 2
}
