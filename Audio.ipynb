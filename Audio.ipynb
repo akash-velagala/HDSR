{
 "cells": [
  {
   "cell_type": "code",
   "execution_count": 9,
   "metadata": {},
   "outputs": [],
   "source": [
    "from pydub import AudioSegment\n",
    "from pydub.playback import play\n",
    "\n",
    "audio = AudioSegment.from_wav(r\"C:\\Users\\reddy\\Documents\\Python Scripts\\dataset\\0.wav\") \n",
    "play(audio)                                "
   ]
  }
 ],
 "metadata": {
  "interpreter": {
   "hash": "61c669b71af8a4bba1683ff9672a5a4202034dc0dad7002d4c0b008a64b431ac"
  },
  "kernelspec": {
   "display_name": "Python 3.7.1 64-bit ('base': conda)",
   "language": "python",
   "name": "python3"
  },
  "language_info": {
   "codemirror_mode": {
    "name": "ipython",
    "version": 3
   },
   "file_extension": ".py",
   "mimetype": "text/x-python",
   "name": "python",
   "nbconvert_exporter": "python",
   "pygments_lexer": "ipython3",
   "version": "3.7.1"
  },
  "orig_nbformat": 4
 },
 "nbformat": 4,
 "nbformat_minor": 2
}
