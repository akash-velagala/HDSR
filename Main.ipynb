{
 "cells": [
  {
   "cell_type": "code",
   "execution_count": 2,
   "metadata": {},
   "outputs": [],
   "source": [
    "import cv2\n",
    "import imutils\n",
    "from imutils import contours\n",
    "import matplotlib.pyplot as plt\n",
    "import matplotlib.image as mpimg\n",
    "import numpy as np\n",
    "from skimage import img_as_ubyte, img_as_uint    \n",
    "from skimage.color import rgb2gray\n",
    "from keras.models import load_model\n",
    "import os\n",
    "import tensorflow as tf"
   ]
  },
  {
   "cell_type": "code",
   "execution_count": 25,
   "metadata": {},
   "outputs": [],
   "source": [
    "img_name = \"Test8.png\"#input(\"Enter the image path\")\n",
    "img_name = os.path.normpath(img_name)\n",
    "try :\n",
    "    image = cv2.imread(img_name)\n",
    "except :\n",
    "    print(\"Enter the correct output\")\n",
    "image = imutils.resize(image, width=1000)\n",
    "\n",
    "gray = cv2.cvtColor(image, cv2.COLOR_BGR2GRAY)\n",
    "blurred = cv2.fastNlMeansDenoising(gray, (2, 6), 1)\n",
    "#blurred = cv2.GaussianBlur(gray, (5, 5), 0)\n",
    "edged = cv2.Canny(blurred, 50, 200, 255)\n",
    "\n",
    "\n",
    "ret, thresh1 = cv2.threshold(gray, 0, 50, cv2.THRESH_OTSU | cv2.THRESH_BINARY_INV)\n",
    "\n",
    "rect_kernel = np.ones((15, 15), np.uint8)\n",
    "                #cv2.getStructuringElement(cv2.MORPH_RECT, (1, 1))\n",
    " \n",
    "dilation = cv2.dilate(thresh1, rect_kernel, iterations = 4)\n",
    "\n",
    "contours, hierarchy = cv2.findContours(dilation, cv2.RETR_EXTERNAL,\n",
    "                                                 cv2.CHAIN_APPROX_NONE)\n",
    "\n",
    "im2 = image.copy()\n",
    "i = 0\n",
    "\n",
    "splits = []\n",
    "\n",
    "for cnt in contours:\n",
    "    x, y, w, h = cv2.boundingRect(cnt)\n",
    "    splits.append((x, y, w, h))\n",
    "\n",
    "splits.sort(key = lambda x: (x[0], x[1]))\n",
    "\n",
    "# for x, y, w, h in splits:\n",
    "\n",
    "#     height, width = max(h, w), max(h, w)\n",
    "     \n",
    "#     # Drawing a rectangle on copied image\n",
    "#     #rect = cv2.rectangle(image, (x, y), (x + w, y + h), (0, 255, 0), 2)\n",
    "\n",
    "#     cropped = im2[y:y + h, x:x + w]\n",
    "\n",
    "#     #cv2.imwrite(\"recog_\"+str(i)+\".png\", cropped)\n",
    "\n",
    "#     split_imgs.append(cropped)\n",
    "\n",
    "#     i += 1"
   ]
  },
  {
   "cell_type": "code",
   "execution_count": 9,
   "metadata": {},
   "outputs": [],
   "source": [
    "model = load_model('trained_model6.h5')\n",
    "m  = 0"
   ]
  },
  {
   "cell_type": "code",
   "execution_count": 26,
   "metadata": {},
   "outputs": [
    {
     "name": "stderr",
     "output_type": "stream",
     "text": [
      "C:\\Users\\reddy\\Anaconda3\\lib\\site-packages\\ipykernel_launcher.py:20: FutureWarning: The behavior of rgb2gray will change in scikit-image 0.19. Currently, rgb2gray allows 2D grayscale image to be passed as inputs and leaves them unmodified as outputs. Starting from version 0.19, 2D arrays will be treated as 1D images with 3 channels.\n"
     ]
    },
    {
     "data": {
      "image/png": "[encoded data removed]",
      "text/plain": [
       "<Figure size 288x288 with 1 Axes>"
      ]
     },
     "metadata": {
      "needs_background": "light"
     },
     "output_type": "display_data"
    },
    {
     "data": {
      "image/png": "[encoded data removed]",
      "text/plain": [
       "<Figure size 288x288 with 1 Axes>"
      ]
     },
     "metadata": {
      "needs_background": "light"
     },
     "output_type": "display_data"
    }
   ],
   "source": [
    "string = []\n",
    "\n",
    "for x, y, w, h in splits:\n",
    "\n",
    "    height, width = max(h, w), max(h, w)\n",
    "     \n",
    "    # Drawing a rectangle on copied image\n",
    "    # rect = cv2.rectangle(image, (x, y), (x + w, y + h), (0, 255, 0), 2)\n",
    "\n",
    "    image = im2[y:y + h, x:x + w]\n",
    "\n",
    "    #cv2.imwrite(\"recog_\"+str(i)+\".png\", cropped)\n",
    "    image = imutils.resize(image, height = 28, inter=cv2.INTER_CUBIC)\n",
    "    image = imutils.resize(image, height=28, inter=cv2.INTER_NEAREST_EXACT)\n",
    "    #image = cv2.bitwise_not(image)\n",
    "    gray = cv2.cvtColor(image, cv2.COLOR_BGR2GRAY)\n",
    "    #gray= cv2.bitwise_not(gray)\n",
    "    \n",
    "\n",
    "    img_gray = rgb2gray(gray)\n",
    "    im_gray_u8 = img_as_ubyte(img_gray)\n",
    "    im_gray_u16 = img_as_uint(img_gray)\n",
    "\n",
    "    (thresh, im_binary) = cv2.threshold(im_gray_u16, 128, 255, cv2.THRESH_BINARY_INV | cv2.THRESH_OTSU)\n",
    "\n",
    "    img_resized = cv2.resize(im_binary,(28,28), interpolation=cv2.INTER_NEAREST_EXACT)\n",
    "    #im_gray_invert = 255 - img_resized\n",
    "    img = np.zeros((28, 28))\n",
    "    img_resized = cv2.normalize(img_resized, \n",
    "                        img, 0, 100, cv2.NORM_MINMAX) \n",
    "    #print(im_gray_invert)\n",
    "\n",
    "    im_final = img_resized.reshape(1,28,28,1)\n",
    "\n",
    "    ans = model.predict(im_final)\n",
    "    # print(ans)\n",
    "    ans = np.argmax(ans,axis=1)[0]\n",
    "    plt.figure(figsize=(4, 4))\n",
    "    plt.imshow(img_resized, interpolation = \"nearest\", cmap = plt.cm.gray_r)\n",
    "    plt.savefig(\"recog_ans6_\"+str(m)+\".jpeg\")\n",
    "    m += 1\n",
    "    string.append(ans)"
   ]
  },
  {
   "cell_type": "code",
   "execution_count": 27,
   "metadata": {},
   "outputs": [
    {
     "name": "stdout",
     "output_type": "stream",
     "text": [
      "[7, 7]\n"
     ]
    }
   ],
   "source": [
    "print(string)"
   ]
  },
  {
   "cell_type": "code",
   "execution_count": 7,
   "metadata": {},
   "outputs": [
    {
     "name": "stderr",
     "output_type": "stream",
     "text": [
      "C:\\Users\\reddy\\Anaconda3\\lib\\site-packages\\pydub\\utils.py:170: RuntimeWarning: Couldn't find ffmpeg or avconv - defaulting to ffmpeg, but may not work\n",
      "  warn(\"Couldn't find ffmpeg or avconv - defaulting to ffmpeg, but may not work\", RuntimeWarning)\n"
     ]
    }
   ],
   "source": [
    "from pydub import AudioSegment\n",
    "from pydub.playback import play\n",
    "import os.path\n",
    "\n",
    "audio = {i: AudioSegment.from_wav(os.path.join(r\"C:\\Users\\reddy\\Documents\\Python Scripts\\dataset\", str(i) + \".wav\")) for i in range(10)}"
   ]
  },
  {
   "cell_type": "code",
   "execution_count": 8,
   "metadata": {},
   "outputs": [
    {
     "name": "stdout",
     "output_type": "stream",
     "text": [
      "play digit 5\n",
      "play digit 5\n",
      "play digit 3\n",
      "the given digit string contains 553\n"
     ]
    }
   ],
   "source": [
    "import time\n",
    "\n",
    "for i in string :\n",
    "    play(audio[i])\n",
    "    print(\"play digit \"+ str(i))\n",
    "    time.sleep(0.5)\n",
    "\n",
    "print(\"the given digit string contains \",*(string), sep = \"\")"
   ]
  }
 ],
 "metadata": {
  "interpreter": {
   "hash": "61c669b71af8a4bba1683ff9672a5a4202034dc0dad7002d4c0b008a64b431ac"
  },
  "kernelspec": {
   "display_name": "Python 3.7.1 64-bit ('base': conda)",
   "language": "python",
   "name": "python3"
  },
  "language_info": {
   "codemirror_mode": {
    "name": "ipython",
    "version": 3
   },
   "file_extension": ".py",
   "mimetype": "text/x-python",
   "name": "python",
   "nbconvert_exporter": "python",
   "pygments_lexer": "ipython3",
   "version": "3.7.1"
  },
  "orig_nbformat": 4
 },
 "nbformat": 4,
 "nbformat_minor": 2
}
