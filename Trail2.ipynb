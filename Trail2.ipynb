{
 "cells": [
  {
   "cell_type": "code",
   "execution_count": 6,
   "metadata": {},
   "outputs": [
    {
     "name": "stdout",
     "output_type": "stream",
     "text": [
      "Epoch 1/20\n",
      "468/468 [==============================] - 165s 353ms/step - loss: 1.3388 - accuracy: 0.5439 - val_loss: 0.2571 - val_accuracy: 0.9319\n",
      "Epoch 2/20\n",
      "468/468 [==============================] - 152s 325ms/step - loss: 0.7532 - accuracy: 0.7580 - val_loss: 0.1386 - val_accuracy: 0.9617\n",
      "Epoch 3/20\n",
      "468/468 [==============================] - 153s 326ms/step - loss: 0.6149 - accuracy: 0.8004 - val_loss: 0.1251 - val_accuracy: 0.9623\n",
      "Epoch 4/20\n",
      "468/468 [==============================] - 160s 343ms/step - loss: 0.5456 - accuracy: 0.8267 - val_loss: 0.0872 - val_accuracy: 0.9758\n",
      "Epoch 5/20\n",
      "468/468 [==============================] - 158s 337ms/step - loss: 0.4986 - accuracy: 0.8411 - val_loss: 0.0923 - val_accuracy: 0.9721\n",
      "Epoch 6/20\n",
      "468/468 [==============================] - 143s 306ms/step - loss: 0.4682 - accuracy: 0.8510 - val_loss: 0.0764 - val_accuracy: 0.9779\n",
      "Epoch 7/20\n",
      "468/468 [==============================] - 143s 305ms/step - loss: 0.4334 - accuracy: 0.8634 - val_loss: 0.0694 - val_accuracy: 0.9778\n",
      "Epoch 8/20\n",
      "468/468 [==============================] - 146s 313ms/step - loss: 0.4098 - accuracy: 0.8686 - val_loss: 0.0626 - val_accuracy: 0.9816\n",
      "Epoch 9/20\n",
      "468/468 [==============================] - 142s 303ms/step - loss: 0.3909 - accuracy: 0.8774 - val_loss: 0.0702 - val_accuracy: 0.9763\n",
      "Epoch 10/20\n",
      "468/468 [==============================] - 140s 300ms/step - loss: 0.3766 - accuracy: 0.8805 - val_loss: 0.0704 - val_accuracy: 0.9784\n",
      "Epoch 11/20\n",
      "468/468 [==============================] - 142s 303ms/step - loss: 0.3688 - accuracy: 0.8842 - val_loss: 0.0500 - val_accuracy: 0.9837\n",
      "Epoch 12/20\n",
      "468/468 [==============================] - 142s 303ms/step - loss: 0.3525 - accuracy: 0.8880 - val_loss: 0.0473 - val_accuracy: 0.9846\n",
      "Epoch 13/20\n",
      "468/468 [==============================] - 139s 298ms/step - loss: 0.3399 - accuracy: 0.8938 - val_loss: 0.0578 - val_accuracy: 0.9833\n",
      "Epoch 14/20\n",
      "468/468 [==============================] - 136s 290ms/step - loss: 0.3373 - accuracy: 0.8948 - val_loss: 0.0586 - val_accuracy: 0.9816\n",
      "Epoch 15/20\n",
      "468/468 [==============================] - 137s 292ms/step - loss: 0.3286 - accuracy: 0.8960 - val_loss: 0.0593 - val_accuracy: 0.9810\n",
      "Epoch 16/20\n",
      "468/468 [==============================] - 136s 291ms/step - loss: 0.3125 - accuracy: 0.9015 - val_loss: 0.0543 - val_accuracy: 0.9839\n",
      "Epoch 17/20\n",
      "468/468 [==============================] - 139s 296ms/step - loss: 0.3046 - accuracy: 0.9054 - val_loss: 0.0690 - val_accuracy: 0.9775\n",
      "Epoch 18/20\n",
      "468/468 [==============================] - 138s 295ms/step - loss: 0.3058 - accuracy: 0.9035 - val_loss: 0.0534 - val_accuracy: 0.9830\n",
      "Epoch 19/20\n",
      "468/468 [==============================] - 138s 295ms/step - loss: 0.2960 - accuracy: 0.9073 - val_loss: 0.0535 - val_accuracy: 0.9838\n",
      "Epoch 20/20\n",
      "468/468 [==============================] - 136s 290ms/step - loss: 0.3005 - accuracy: 0.9061 - val_loss: 0.0548 - val_accuracy: 0.9831\n",
      "Test loss: 0.054785504937171936\n",
      "Test accuracy: 0.9830999970436096\n",
      "Done\n"
     ]
    }
   ],
   "source": [
    "import keras\n",
    "from keras.datasets import mnist\n",
    "from keras.models import Sequential\n",
    "from keras.layers import Dense, Dropout, Flatten\n",
    "from keras.layers import Conv2D, MaxPooling2D\n",
    "from keras.preprocessing.image import ImageDataGenerator\n",
    "from keras import backend as K\n",
    "\n",
    "(x_train, y_train), (x_test, y_test) = mnist.load_data()\n",
    "\n",
    "num_of_trainImgs = x_train.shape[0] #60000 here\n",
    "num_of_testImgs = x_test.shape[0] #10000 here\n",
    "img_width = 28\n",
    "img_height = 28\n",
    " \n",
    "x_train = x_train.reshape(x_train.shape[0], img_height, img_width, 1)\n",
    "x_test = x_test.reshape(x_test.shape[0], img_height, img_width, 1)\n",
    "input_shape = (img_height, img_width, 1)\n",
    " \n",
    "x_train = x_train.astype('float32')\n",
    "x_test = x_test.astype('float32')\n",
    "x_train /= 255\n",
    "x_test /= 255\n",
    "\n",
    "num_classes = 10\n",
    "y_train = keras.utils.to_categorical(y_train, num_classes)\n",
    "y_test = keras.utils.to_categorical(y_test, num_classes)\n",
    "\n",
    "model = Sequential()\n",
    "model.add(Conv2D(64, kernel_size=(4, 4),\n",
    "                 activation='relu',\n",
    "                 input_shape=input_shape))\n",
    "model.add(Conv2D(64, (3, 3), activation='relu'))\n",
    "model.add(MaxPooling2D(pool_size=(2, 2)))\n",
    "model.add(Dropout(0.25))\n",
    "model.add(Flatten())\n",
    "model.add(Dense(256, activation='relu'))\n",
    "model.add(Dropout(0.5))\n",
    "model.add(Dense(num_classes, activation='softmax'))\n",
    "\n",
    "data_generator = ImageDataGenerator(\n",
    "                        rotation_range=10,\n",
    "                        width_shift_range=0.25,\n",
    "                        height_shift_range=0.25,\n",
    "                        zoom_range=.5,\n",
    "                        horizontal_flip=False)\n",
    "\n",
    "model.compile(loss=keras.losses.categorical_crossentropy,\n",
    "              optimizer=keras.optimizers.Adam(),\n",
    "              metrics=['accuracy'])\n",
    "\n",
    "model.fit(x_train, y_train, steps_per_epoch=len(x_train) // 128,\n",
    "                        epochs=12, verbose=1,\n",
    "                        validation_data=(x_test, y_test))\n",
    "\n",
    "score = model.evaluate(x_test, y_test, verbose=0)\n",
    "print('Test loss:', score[0])\n",
    "print('Test accuracy:', score[1])\n",
    "\n",
    "model.save('trained_model5.h5')\n",
    "print(\"Done\")"
   ]
  },
  {
   "cell_type": "code",
   "execution_count": 31,
   "metadata": {},
   "outputs": [
    {
     "name": "stdout",
     "output_type": "stream",
     "text": [
      "WARNING:tensorflow:11 out of the last 11 calls to <function Model.make_predict_function.<locals>.predict_function at 0x0000017C885A9C80> triggered tf.function retracing. Tracing is expensive and the excessive number of tracings could be due to (1) creating @tf.function repeatedly in a loop, (2) passing tensors with different shapes, (3) passing Python objects instead of tensors. For (1), please define your @tf.function outside of the loop. For (2), @tf.function has experimental_relax_shapes=True option that relaxes argument shapes that can avoid unnecessary retracing. For (3), please refer to https://www.tensorflow.org/tutorials/customization/performance#python_or_tensor_args and https://www.tensorflow.org/api_docs/python/tf/function for  more details.\n",
      "8\n"
     ]
    },
    {
     "data": {
      "image/png": "[encoded data removed]",
      "text/plain": [
       "<Figure size 288x288 with 1 Axes>"
      ]
     },
     "metadata": {
      "needs_background": "light"
     },
     "output_type": "display_data"
    }
   ],
   "source": [
    "import numpy as np\n",
    "import cv2\n",
    "from skimage import img_as_ubyte, img_as_uint    \n",
    "from skimage.color import rgb2gray\n",
    "from keras.models import load_model\n",
    "import matplotlib.pyplot as plt\n",
    "\n",
    "model = load_model('trained_model3.h5')\n",
    "\n",
    "img_original = cv2.imread(\"recog_1.png\")\n",
    "\n",
    "img_gray = rgb2gray(img_original)\n",
    "img_gray_u8 = img_as_ubyte(img_gray)\n",
    "im_gray_u16 = img_as_uint(img_gray)\n",
    "\n",
    "(thresh, im_binary) = cv2.threshold(im_gray_u16, 128, 255, cv2.THRESH_BINARY | cv2.THRESH_OTSU)\n",
    "\n",
    "img_resized = cv2.resize(im_binary,(28,28), interpolation=cv2.INTER_NEAREST_EXACT)\n",
    "im_gray_invert = 255 - img_resized\n",
    "\n",
    "#print(im_gray_invert)\n",
    "\n",
    "im_final = im_gray_invert.reshape(1,28,28,1)\n",
    "\n",
    "ans = model.predict(im_final)\n",
    "ans = np.argmax(ans,axis=1)[0]\n",
    "plt.figure(figsize=(4, 4))\n",
    "plt.imshow(img_resized, interpolation = \"nearest\", cmap = plt.cm.gray_r)\n",
    "print(ans)"
   ]
  }
 ],
 "metadata": {
  "interpreter": {
   "hash": "61c669b71af8a4bba1683ff9672a5a4202034dc0dad7002d4c0b008a64b431ac"
  },
  "kernelspec": {
   "display_name": "Python 3.7.1 64-bit ('base': conda)",
   "language": "python",
   "name": "python3"
  },
  "language_info": {
   "codemirror_mode": {
    "name": "ipython",
    "version": 3
   },
   "file_extension": ".py",
   "mimetype": "text/x-python",
   "name": "python",
   "nbconvert_exporter": "python",
   "pygments_lexer": "ipython3",
   "version": "3.7.1"
  },
  "orig_nbformat": 4
 },
 "nbformat": 4,
 "nbformat_minor": 2
}
