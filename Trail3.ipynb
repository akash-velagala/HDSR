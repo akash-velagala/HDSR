{
 "cells": [
  {
   "cell_type": "code",
   "execution_count": 40,
   "metadata": {},
   "outputs": [
    {
     "name": "stdout",
     "output_type": "stream",
     "text": [
      "Epoch 1/12\n",
      "234/234 [==============================] - 127s 541ms/step - loss: 0.4735 - accuracy: 0.8493 - val_loss: 0.1011 - val_accuracy: 0.9685\n",
      "Epoch 2/12\n",
      "234/234 [==============================] - 122s 522ms/step - loss: 0.1126 - accuracy: 0.9667 - val_loss: 0.0686 - val_accuracy: 0.9797\n",
      "Epoch 3/12\n",
      "234/234 [==============================] - 117s 498ms/step - loss: 0.0787 - accuracy: 0.9768 - val_loss: 0.0480 - val_accuracy: 0.9847\n",
      "Epoch 4/12\n",
      "234/234 [==============================] - 118s 505ms/step - loss: 0.0645 - accuracy: 0.9806 - val_loss: 0.0449 - val_accuracy: 0.9863\n",
      "Epoch 5/12\n",
      "234/234 [==============================] - 130s 557ms/step - loss: 0.0533 - accuracy: 0.9839 - val_loss: 0.0432 - val_accuracy: 0.9867\n",
      "Epoch 6/12\n",
      "234/234 [==============================] - 122s 521ms/step - loss: 0.0464 - accuracy: 0.9862 - val_loss: 0.0458 - val_accuracy: 0.9857\n",
      "Epoch 7/12\n",
      "234/234 [==============================] - 114s 488ms/step - loss: 0.0415 - accuracy: 0.9870 - val_loss: 0.0428 - val_accuracy: 0.9871\n",
      "Epoch 8/12\n",
      "234/234 [==============================] - 115s 492ms/step - loss: 0.0369 - accuracy: 0.9891 - val_loss: 0.0366 - val_accuracy: 0.9886\n",
      "Epoch 9/12\n",
      "234/234 [==============================] - 114s 488ms/step - loss: 0.0313 - accuracy: 0.9902 - val_loss: 0.0432 - val_accuracy: 0.9863\n",
      "Epoch 10/12\n",
      "234/234 [==============================] - 114s 486ms/step - loss: 0.0274 - accuracy: 0.9915 - val_loss: 0.0356 - val_accuracy: 0.9896\n",
      "Epoch 11/12\n",
      "234/234 [==============================] - 114s 486ms/step - loss: 0.0258 - accuracy: 0.9917 - val_loss: 0.0476 - val_accuracy: 0.9852\n",
      "Epoch 12/12\n",
      "234/234 [==============================] - 115s 492ms/step - loss: 0.0219 - accuracy: 0.9931 - val_loss: 0.0370 - val_accuracy: 0.9878\n",
      "Test loss: 0.03702665865421295\n",
      "Test accuracy: 0.9878000020980835\n",
      "Done\n"
     ]
    }
   ],
   "source": [
    "import keras\n",
    "from keras.datasets import mnist\n",
    "from keras.models import Sequential\n",
    "from keras.layers import Dense, Dropout, Flatten\n",
    "from keras.layers import Conv2D, MaxPooling2D\n",
    "from keras.preprocessing.image import ImageDataGenerator\n",
    "from keras import backend as K\n",
    "\n",
    "(x_train, y_train), (x_test, y_test) = mnist.load_data()\n",
    "\n",
    "num_of_trainImgs = x_train.shape[0] #60000 here\n",
    "num_of_testImgs = x_test.shape[0] #10000 here\n",
    "img_width = 28\n",
    "img_height = 28\n",
    " \n",
    "x_train = x_train.reshape(x_train.shape[0], img_height, img_width, 1)\n",
    "x_test = x_test.reshape(x_test.shape[0], img_height, img_width, 1)\n",
    "input_shape = (img_height, img_width, 1)\n",
    " \n",
    "x_train = x_train.astype('float32')\n",
    "x_test = x_test.astype('float32')\n",
    "x_train /= 255\n",
    "x_test /= 255\n",
    "\n",
    "num_classes = 10\n",
    "y_train = keras.utils.to_categorical(y_train, num_classes)\n",
    "y_test = keras.utils.to_categorical(y_test, num_classes)\n",
    "\n",
    "model = Sequential()\n",
    "model.add(Conv2D(128, kernel_size=(4, 4), activation='relu', input_shape=input_shape))\n",
    "model.add(MaxPooling2D(pool_size=(2, 2)))\n",
    "model.add(Conv2D(64, (3, 3), activation='relu'))\n",
    "model.add(MaxPooling2D(pool_size=(2, 2)))\n",
    "model.add(Conv2D(64, (3, 3), activation='relu'))\n",
    "model.add(MaxPooling2D(pool_size=(2, 2)))\n",
    "model.add(Flatten())\n",
    "model.add(Dense(256, activation='relu'))\n",
    "model.add(Dropout(0.5))\n",
    "model.add(Dense(num_classes, activation='softmax'))\n",
    "\n",
    "data_generator = ImageDataGenerator(\n",
    "                        rotation_range=10,\n",
    "                        width_shift_range=0.25,\n",
    "                        height_shift_range=0.25,\n",
    "                        zoom_range=.5,\n",
    "                        horizontal_flip=False)\n",
    "\n",
    "model.compile(loss=keras.losses.categorical_crossentropy,\n",
    "              optimizer=keras.optimizers.Adam(),\n",
    "              metrics=['accuracy'])\n",
    "\n",
    "model.fit(x_train, y_train, steps_per_epoch=len(x_train) // 256,\n",
    "                        epochs=12, verbose=1,\n",
    "                        validation_data=(x_test, y_test))\n",
    "\n",
    "score = model.evaluate(x_test, y_test, verbose=0)\n",
    "print('Test loss:', score[0])\n",
    "print('Test accuracy:', score[1])\n",
    "\n",
    "model.save('trained_model5.h5')\n",
    "print(\"Done\")"
   ]
  },
  {
   "cell_type": "code",
   "execution_count": 6,
   "metadata": {},
   "outputs": [
    {
     "name": "stderr",
     "output_type": "stream",
     "text": [
      "No handles with labels found to put in legend.\n"
     ]
    },
    {
     "data": {
      "text/plain": [
       "<matplotlib.legend.Legend at 0x17c50ff77b8>"
      ]
     },
     "execution_count": 6,
     "metadata": {},
     "output_type": "execute_result"
    },
    {
     "data": {
      "image/png": "[encoded data removed]",
      "text/plain": [
       "<Figure size 576x288 with 8 Axes>"
      ]
     },
     "metadata": {
      "needs_background": "light"
     },
     "output_type": "display_data"
    }
   ],
   "source": [
    "from matplotlib import pyplot as plt\n",
    "import numpy as np\n",
    "import cv2\n",
    "\n",
    "plt.figure(figsize = (8, 4))\n",
    "\n",
    "for i in range(8) :\n",
    "    plt.subplot(2, 4, i + 1)\n",
    "    plt.imshow(cv2.imread(\"recog_ans6_\" + str(3+i) + \".jpeg\"), cmap = \"gray\")\n",
    "    # plt.title(\"Digit-\"+str(np.argmax(y_train[i])))\n",
    "    ax = plt.gca()\n",
    "    ax.get_xaxis().set_visible(False)\n",
    "    ax.get_yaxis().set_visible(False)\n",
    "plt.legend()"
   ]
  },
  {
   "cell_type": "code",
   "execution_count": 34,
   "metadata": {},
   "outputs": [
    {
     "name": "stdout",
     "output_type": "stream",
     "text": [
      "{0: 5923, 1: 6742, 2: 5958, 3: 6131, 4: 5842, 5: 5421, 6: 5918, 7: 6265, 8: 5851, 9: 5949}\n"
     ]
    }
   ],
   "source": [
    "count = {i:0 for i in range(10)}\n",
    "for i in y_train :\n",
    "    count[np.argmax(i)] += 1\n",
    "\n",
    "print(count)"
   ]
  },
  {
   "cell_type": "code",
   "execution_count": 35,
   "metadata": {},
   "outputs": [
    {
     "name": "stdout",
     "output_type": "stream",
     "text": [
      "{0: 980, 1: 1135, 2: 1032, 3: 1010, 4: 982, 5: 892, 6: 958, 7: 1028, 8: 974, 9: 1009}\n"
     ]
    }
   ],
   "source": [
    "count = {i:0 for i in range(10)}\n",
    "for i in y_test :\n",
    "    count[np.argmax(i)] += 1\n",
    "\n",
    "print(count)"
   ]
  },
  {
   "cell_type": "code",
   "execution_count": 38,
   "metadata": {},
   "outputs": [
    {
     "name": "stdout",
     "output_type": "stream",
     "text": [
      "[[0.         0.         0.         0.         0.         0.\n",
      "  0.         0.         0.         0.         0.         0.\n",
      "  0.         0.         0.         0.         0.         0.\n",
      "  0.         0.         0.         0.         0.         0.\n",
      "  0.         0.         0.         0.        ]\n",
      " [0.         0.         0.         0.         0.         0.\n",
      "  0.         0.         0.         0.         0.         0.\n",
      "  0.         0.         0.         0.         0.         0.\n",
      "  0.         0.         0.         0.         0.         0.\n",
      "  0.         0.         0.         0.        ]\n",
      " [0.         0.         0.         0.         0.         0.\n",
      "  0.         0.         0.         0.         0.         0.\n",
      "  0.         0.         0.         0.         0.         0.\n",
      "  0.         0.         0.         0.         0.         0.\n",
      "  0.         0.         0.         0.        ]\n",
      " [0.         0.         0.         0.         0.         0.\n",
      "  0.         0.         0.         0.         0.         0.\n",
      "  0.         0.         0.         0.         0.         0.\n",
      "  0.         0.         0.         0.         0.         0.\n",
      "  0.         0.         0.         0.        ]\n",
      " [0.         0.         0.         0.         0.         0.\n",
      "  0.         0.         0.         0.         0.         0.\n",
      "  0.         0.         0.         0.2        0.62352943 0.99215686\n",
      "  0.62352943 0.19607843 0.         0.         0.         0.\n",
      "  0.         0.         0.         0.        ]\n",
      " [0.         0.         0.         0.         0.         0.\n",
      "  0.         0.         0.         0.         0.         0.\n",
      "  0.         0.         0.1882353  0.93333334 0.9882353  0.9882353\n",
      "  0.9882353  0.92941177 0.         0.         0.         0.\n",
      "  0.         0.         0.         0.        ]\n",
      " [0.         0.         0.         0.         0.         0.\n",
      "  0.         0.         0.         0.         0.         0.\n",
      "  0.         0.21176471 0.8901961  0.99215686 0.9882353  0.9372549\n",
      "  0.9137255  0.9882353  0.22352941 0.02352941 0.         0.\n",
      "  0.         0.         0.         0.        ]\n",
      " [0.         0.         0.         0.         0.         0.\n",
      "  0.         0.         0.         0.         0.         0.03921569\n",
      "  0.23529412 0.8784314  0.9882353  0.99215686 0.9882353  0.7921569\n",
      "  0.32941177 0.9882353  0.99215686 0.47843137 0.         0.\n",
      "  0.         0.         0.         0.        ]\n",
      " [0.         0.         0.         0.         0.         0.\n",
      "  0.         0.         0.         0.         0.         0.6392157\n",
      "  0.9882353  0.9882353  0.9882353  0.99215686 0.9882353  0.9882353\n",
      "  0.3764706  0.7411765  0.99215686 0.654902   0.         0.\n",
      "  0.         0.         0.         0.        ]\n",
      " [0.         0.         0.         0.         0.         0.\n",
      "  0.         0.         0.         0.         0.2        0.93333334\n",
      "  0.99215686 0.99215686 0.74509805 0.44705883 0.99215686 0.89411765\n",
      "  0.18431373 0.30980393 1.         0.65882355 0.         0.\n",
      "  0.         0.         0.         0.        ]\n",
      " [0.         0.         0.         0.         0.         0.\n",
      "  0.         0.         0.         0.1882353  0.93333334 0.9882353\n",
      "  0.9882353  0.7019608  0.04705882 0.29411766 0.4745098  0.08235294\n",
      "  0.         0.         0.99215686 0.9529412  0.19607843 0.\n",
      "  0.         0.         0.         0.        ]\n",
      " [0.         0.         0.         0.         0.         0.\n",
      "  0.         0.         0.14901961 0.64705884 0.99215686 0.9137255\n",
      "  0.8156863  0.32941177 0.         0.         0.         0.\n",
      "  0.         0.         0.99215686 0.9882353  0.64705884 0.\n",
      "  0.         0.         0.         0.        ]\n",
      " [0.         0.         0.         0.         0.         0.\n",
      "  0.         0.02745098 0.69803923 0.9882353  0.9411765  0.2784314\n",
      "  0.07450981 0.10980392 0.         0.         0.         0.\n",
      "  0.         0.         0.99215686 0.9882353  0.7647059  0.\n",
      "  0.         0.         0.         0.        ]\n",
      " [0.         0.         0.         0.         0.         0.\n",
      "  0.         0.22352941 0.9882353  0.9882353  0.24705882 0.\n",
      "  0.         0.         0.         0.         0.         0.\n",
      "  0.         0.         0.99215686 0.9882353  0.7647059  0.\n",
      "  0.         0.         0.         0.        ]\n",
      " [0.         0.         0.         0.         0.         0.\n",
      "  0.         0.7764706  0.99215686 0.74509805 0.         0.\n",
      "  0.         0.         0.         0.         0.         0.\n",
      "  0.         0.         1.         0.99215686 0.76862746 0.\n",
      "  0.         0.         0.         0.        ]\n",
      " [0.         0.         0.         0.         0.         0.\n",
      "  0.29803923 0.9647059  0.9882353  0.4392157  0.         0.\n",
      "  0.         0.         0.         0.         0.         0.\n",
      "  0.         0.         0.99215686 0.9882353  0.5803922  0.\n",
      "  0.         0.         0.         0.        ]\n",
      " [0.         0.         0.         0.         0.         0.\n",
      "  0.33333334 0.9882353  0.9019608  0.09803922 0.         0.\n",
      "  0.         0.         0.         0.         0.         0.\n",
      "  0.02745098 0.5294118  0.99215686 0.7294118  0.04705882 0.\n",
      "  0.         0.         0.         0.        ]\n",
      " [0.         0.         0.         0.         0.         0.\n",
      "  0.33333334 0.9882353  0.8745098  0.         0.         0.\n",
      "  0.         0.         0.         0.         0.         0.02745098\n",
      "  0.5137255  0.9882353  0.88235295 0.2784314  0.         0.\n",
      "  0.         0.         0.         0.        ]\n",
      " [0.         0.         0.         0.         0.         0.\n",
      "  0.33333334 0.9882353  0.5686275  0.         0.         0.\n",
      "  0.         0.         0.         0.         0.1882353  0.64705884\n",
      "  0.9882353  0.6784314  0.         0.         0.         0.\n",
      "  0.         0.         0.         0.        ]\n",
      " [0.         0.         0.         0.         0.         0.\n",
      "  0.3372549  0.99215686 0.88235295 0.         0.         0.\n",
      "  0.         0.         0.         0.44705883 0.93333334 0.99215686\n",
      "  0.63529414 0.         0.         0.         0.         0.\n",
      "  0.         0.         0.         0.        ]\n",
      " [0.         0.         0.         0.         0.         0.\n",
      "  0.33333334 0.9882353  0.9764706  0.57254905 0.1882353  0.11372549\n",
      "  0.33333334 0.69803923 0.88235295 0.99215686 0.8745098  0.654902\n",
      "  0.21960784 0.         0.         0.         0.         0.\n",
      "  0.         0.         0.         0.        ]\n",
      " [0.         0.         0.         0.         0.         0.\n",
      "  0.33333334 0.9882353  0.9882353  0.9882353  0.8980392  0.84313726\n",
      "  0.9882353  0.9882353  0.9882353  0.76862746 0.50980395 0.\n",
      "  0.         0.         0.         0.         0.         0.\n",
      "  0.         0.         0.         0.        ]\n",
      " [0.         0.         0.         0.         0.         0.\n",
      "  0.10980392 0.78039217 0.9882353  0.9882353  0.99215686 0.9882353\n",
      "  0.9882353  0.9137255  0.5686275  0.         0.         0.\n",
      "  0.         0.         0.         0.         0.         0.\n",
      "  0.         0.         0.         0.        ]\n",
      " [0.         0.         0.         0.         0.         0.\n",
      "  0.         0.09803922 0.5019608  0.9882353  0.99215686 0.9882353\n",
      "  0.5529412  0.14509805 0.         0.         0.         0.\n",
      "  0.         0.         0.         0.         0.         0.\n",
      "  0.         0.         0.         0.        ]\n",
      " [0.         0.         0.         0.         0.         0.\n",
      "  0.         0.         0.         0.         0.         0.\n",
      "  0.         0.         0.         0.         0.         0.\n",
      "  0.         0.         0.         0.         0.         0.\n",
      "  0.         0.         0.         0.        ]\n",
      " [0.         0.         0.         0.         0.         0.\n",
      "  0.         0.         0.         0.         0.         0.\n",
      "  0.         0.         0.         0.         0.         0.\n",
      "  0.         0.         0.         0.         0.         0.\n",
      "  0.         0.         0.         0.        ]\n",
      " [0.         0.         0.         0.         0.         0.\n",
      "  0.         0.         0.         0.         0.         0.\n",
      "  0.         0.         0.         0.         0.         0.\n",
      "  0.         0.         0.         0.         0.         0.\n",
      "  0.         0.         0.         0.        ]\n",
      " [0.         0.         0.         0.         0.         0.\n",
      "  0.         0.         0.         0.         0.         0.\n",
      "  0.         0.         0.         0.         0.         0.\n",
      "  0.         0.         0.         0.         0.         0.\n",
      "  0.         0.         0.         0.        ]]\n"
     ]
    }
   ],
   "source": [
    "print(x_train[1].reshape(28, 28))"
   ]
  }
 ],
 "metadata": {
  "interpreter": {
   "hash": "61c669b71af8a4bba1683ff9672a5a4202034dc0dad7002d4c0b008a64b431ac"
  },
  "kernelspec": {
   "display_name": "Python 3.7.1 64-bit ('base': conda)",
   "language": "python",
   "name": "python3"
  },
  "language_info": {
   "codemirror_mode": {
    "name": "ipython",
    "version": 3
   },
   "file_extension": ".py",
   "mimetype": "text/x-python",
   "name": "python",
   "nbconvert_exporter": "python",
   "pygments_lexer": "ipython3",
   "version": "3.7.1"
  },
  "orig_nbformat": 4
 },
 "nbformat": 4,
 "nbformat_minor": 2
}
