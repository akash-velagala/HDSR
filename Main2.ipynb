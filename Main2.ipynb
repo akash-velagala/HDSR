{
 "cells": [
  {
   "cell_type": "code",
   "execution_count": 1,
   "metadata": {},
   "outputs": [],
   "source": [
    "import cv2\n",
    "import imutils\n",
    "from imutils import contours\n",
    "import matplotlib.pyplot as plt\n",
    "import matplotlib.image as mpimg\n",
    "import numpy as np\n",
    "from skimage import img_as_ubyte, img_as_uint    \n",
    "from skimage.color import rgb2gray\n",
    "#from keras.models import load_model\n",
    "import os\n",
    "#import tensorflow as tf"
   ]
  },
  {
   "cell_type": "code",
   "execution_count": 86,
   "metadata": {},
   "outputs": [],
   "source": [
    "img_name = \"2.jpeg\"#input(\"Enter the image path\")\n",
    "img_name = os.path.normpath(img_name)\n",
    "try :\n",
    "    image = cv2.imread(img_name)\n",
    "except :\n",
    "    print(\"Enter the correct output\")\n",
    "image = imutils.resize(image, width=1000)\n",
    "\n",
    "gray = cv2.cvtColor(image, cv2.COLOR_BGR2GRAY)\n",
    "blurred = cv2.fastNlMeansDenoising(gray, (2, 6), 1)\n",
    "edged = cv2.Canny(blurred, 1, 200, 255)\n",
    "\n",
    "#from  skimage import exposure\n",
    "#contrast_enhanced_image = exposure.equalize_adapthist(blurred, clip_limit=0.03)\n",
    "\n",
    "\n",
    "ret, thresh1 = cv2.threshold(gray, 0, 100, cv2.THRESH_OTSU | cv2.THRESH_BINARY_INV)\n",
    "\n",
    "rect_kernel = np.ones((15, 15), np.uint8)\n",
    "#rect_kernel = cv2.getStructuringElement(cv2.MORPH_RECT, (1, 1))\n",
    " \n",
    "dilation = cv2.dilate(thresh1, rect_kernel, iterations = 4)\n",
    "\n",
    "contours, hierarchy = cv2.findContours(dilation, \n",
    "            cv2.RETR_EXTERNAL, cv2.CHAIN_APPROX_NONE)\n",
    "\n",
    "im2 = image.copy()\n",
    "i = 0\n",
    "\n",
    "splits = []\n",
    "\n",
    "for cnt in contours:\n",
    "    x, y, w, h = cv2.boundingRect(cnt)\n",
    "    splits.append((x, y, w, h))\n",
    "\n",
    "splits.sort(key = lambda x: (x[0], x[1]))\n",
    "\n",
    "# for x, y, w, h in splits:\n",
    "\n",
    "#     height, width = max(h, w), max(h, w)\n",
    "     \n",
    "#     # Drawing a rectangle on copied image\n",
    "#     #rect = cv2.rectangle(image, (x, y), (x + w, y + h), (0, 255, 0), 2)\n",
    "\n",
    "#     cropped = im2[y:y + h, x:x + w]\n",
    "\n",
    "#     #cv2.imwrite(\"recog_\"+str(i)+\".png\", cropped)\n",
    "\n",
    "#     split_imgs.append(cropped)\n",
    "\n",
    "#     i += 1"
   ]
  },
  {
   "cell_type": "code",
   "execution_count": 87,
   "metadata": {},
   "outputs": [],
   "source": [
    "#model = load_model('trained_model3.h5')"
   ]
  },
  {
   "cell_type": "code",
   "execution_count": 88,
   "metadata": {},
   "outputs": [
    {
     "name": "stderr",
     "output_type": "stream",
     "text": [
      "<ipython-input-88-6faf0a91799b>:19: FutureWarning: The behavior of rgb2gray will change in scikit-image 0.19. Currently, rgb2gray allows 2D grayscale image to be passed as inputs and leaves them unmodified as outputs. Starting from version 0.19, 2D arrays will be treated as 1D images with 3 channels.\n",
      "  img_gray = rgb2gray(gray)\n"
     ]
    },
    {
     "data": {
      "image/png": "[encoded data removed]",
      "text/plain": [
       "<Figure size 288x288 with 1 Axes>"
      ]
     },
     "metadata": {},
     "output_type": "display_data"
    },
    {
     "data": {
      "image/png": "[encoded data removed]",
      "text/plain": [
       "<Figure size 288x288 with 1 Axes>"
      ]
     },
     "metadata": {},
     "output_type": "display_data"
    },
    {
     "data": {
      "image/png": "[encoded data removed]",
      "text/plain": [
       "<Figure size 288x288 with 1 Axes>"
      ]
     },
     "metadata": {},
     "output_type": "display_data"
    }
   ],
   "source": [
    "string = []\n",
    "\n",
    "for x, y, w, h in splits:\n",
    "\n",
    "    height, width = max(h, w), max(h, w)\n",
    "     \n",
    "    # Drawing a rectangle on copied image\n",
    "    # rect = cv2.rectangle(image, (x, y), (x + w, y + h), (0, 255, 0), 2)\n",
    "\n",
    "    image = im2[y:y + h, x:x + w]\n",
    "\n",
    "    #cv2.imwrite(\"recog_\"+str(i)+\".png\", cropped)\n",
    "    image = imutils.resize(image, height = 28, inter=cv2.INTER_CUBIC)\n",
    "    image = imutils.resize(image, height=28, inter=cv2.INTER_NEAREST_EXACT)\n",
    "    #image = cv2.bitwise_not(image)\n",
    "    gray = cv2.cvtColor(image, cv2.COLOR_BGR2GRAY)\n",
    "    #gray= cv2.bitwise_not(gray)    \n",
    "\n",
    "    img_gray = rgb2gray(gray)\n",
    "    im_gray_u8 = img_as_ubyte(img_gray)\n",
    "    im_gray_u16 = img_as_uint(img_gray)\n",
    "\n",
    "    (thresh, im_binary) = cv2.threshold(im_gray_u8, 1, 100, cv2.THRESH_BINARY_INV | cv2.THRESH_OTSU)\n",
    "\n",
    "    img_resized = cv2.resize(im_binary,(28,28), interpolation=cv2.INTER_NEAREST_EXACT)\n",
    "    \n",
    "    img = np.zeros((28, 28))\n",
    "    img_resized = cv2.normalize(img_resized, \n",
    "                        img, 0, 100, cv2.NORM_MINMAX) \n",
    "    \n",
    "    #im_gray_invert = 255 - img_resized\n",
    "\n",
    "    #print(im_gray_invert)\n",
    "\n",
    "    im_final = img_resized.reshape(1,28,28,1)\n",
    "\n",
    "    #ans = model.predict(im_final)\n",
    "    # print(ans)\n",
    "    #ans = np.argmax(ans,axis=1)[0]\n",
    "    plt.figure(figsize=(4, 4))\n",
    "    plt.imshow(img_resized, interpolation = \"nearest\", cmap = plt.cm.gray_r)\n",
    "    plt.xticks([])\n",
    "    plt.yticks([])\n",
    "    # plt.savefig(\"recog\" + str(x))\n",
    "    #string.append(ans)"
   ]
  },
  {
   "cell_type": "code",
   "execution_count": 53,
   "metadata": {},
   "outputs": [
    {
     "name": "stdout",
     "output_type": "stream",
     "text": [
      "[]\n"
     ]
    }
   ],
   "source": [
    "print(string)"
   ]
  },
  {
   "cell_type": "code",
   "execution_count": 38,
   "metadata": {},
   "outputs": [
    {
     "ename": "ModuleNotFoundError",
     "evalue": "No module named 'pydub'",
     "output_type": "error",
     "traceback": [
      "\u001b[1;31m---------------------------------------------------------------------------\u001b[0m",
      "\u001b[1;31mModuleNotFoundError\u001b[0m                       Traceback (most recent call last)",
      "\u001b[1;32m<ipython-input-38-1e6d2b3eedfb>\u001b[0m in \u001b[0;36m<module>\u001b[1;34m\u001b[0m\n\u001b[1;32m----> 1\u001b[1;33m \u001b[1;32mfrom\u001b[0m \u001b[0mpydub\u001b[0m \u001b[1;32mimport\u001b[0m \u001b[0mAudioSegment\u001b[0m\u001b[1;33m\u001b[0m\u001b[1;33m\u001b[0m\u001b[0m\n\u001b[0m\u001b[0;32m      2\u001b[0m \u001b[1;32mfrom\u001b[0m \u001b[0mpydub\u001b[0m\u001b[1;33m.\u001b[0m\u001b[0mplayback\u001b[0m \u001b[1;32mimport\u001b[0m \u001b[0mplay\u001b[0m\u001b[1;33m\u001b[0m\u001b[1;33m\u001b[0m\u001b[0m\n\u001b[0;32m      3\u001b[0m \u001b[1;32mimport\u001b[0m \u001b[0mos\u001b[0m\u001b[1;33m.\u001b[0m\u001b[0mpath\u001b[0m\u001b[1;33m\u001b[0m\u001b[1;33m\u001b[0m\u001b[0m\n\u001b[0;32m      4\u001b[0m \u001b[1;33m\u001b[0m\u001b[0m\n\u001b[0;32m      5\u001b[0m \u001b[0maudio\u001b[0m \u001b[1;33m=\u001b[0m \u001b[1;33m{\u001b[0m\u001b[0mi\u001b[0m\u001b[1;33m:\u001b[0m \u001b[0mAudioSegment\u001b[0m\u001b[1;33m.\u001b[0m\u001b[0mfrom_wav\u001b[0m\u001b[1;33m(\u001b[0m\u001b[0mos\u001b[0m\u001b[1;33m.\u001b[0m\u001b[0mpath\u001b[0m\u001b[1;33m.\u001b[0m\u001b[0mjoin\u001b[0m\u001b[1;33m(\u001b[0m\u001b[1;34mr\"C:\\Users\\reddy\\Documents\\Python Scripts\\dataset\"\u001b[0m\u001b[1;33m,\u001b[0m \u001b[0mstr\u001b[0m\u001b[1;33m(\u001b[0m\u001b[0mi\u001b[0m\u001b[1;33m)\u001b[0m \u001b[1;33m+\u001b[0m \u001b[1;34m\".wav\"\u001b[0m\u001b[1;33m)\u001b[0m\u001b[1;33m)\u001b[0m \u001b[1;32mfor\u001b[0m \u001b[0mi\u001b[0m \u001b[1;32min\u001b[0m \u001b[0mrange\u001b[0m\u001b[1;33m(\u001b[0m\u001b[1;36m10\u001b[0m\u001b[1;33m)\u001b[0m\u001b[1;33m}\u001b[0m\u001b[1;33m\u001b[0m\u001b[1;33m\u001b[0m\u001b[0m\n",
      "\u001b[1;31mModuleNotFoundError\u001b[0m: No module named 'pydub'"
     ]
    }
   ],
   "source": [
    "from pydub import AudioSegment\n",
    "from pydub.playback import play\n",
    "import os.path\n",
    "\n",
    "audio = {i: AudioSegment.from_wav(os.path.join(r\"C:\\Users\\reddy\\Documents\\Python Scripts\\dataset\", str(i) + \".wav\")) for i in range(10)}"
   ]
  },
  {
   "cell_type": "code",
   "execution_count": 84,
   "metadata": {},
   "outputs": [
    {
     "name": "stdout",
     "output_type": "stream",
     "text": [
      "play digit 5\n",
      "play digit 1\n",
      "play digit 5\n",
      "the given digit string contains 515\n"
     ]
    }
   ],
   "source": [
    "import time\n",
    "\n",
    "for i in string :\n",
    "    play(audio[i])\n",
    "    print(\"play digit \"+ str(i))\n",
    "    time.sleep(0.5)\n",
    "\n",
    "print(\"the given digit string contains \",*(string), sep = \"\")"
   ]
  }
 ],
 "metadata": {
  "interpreter": {
   "hash": "61c669b71af8a4bba1683ff9672a5a4202034dc0dad7002d4c0b008a64b431ac"
  },
  "kernelspec": {
   "display_name": "Python 3",
   "language": "python",
   "name": "python3"
  },
  "language_info": {
   "codemirror_mode": {
    "name": "ipython",
    "version": 3
   },
   "file_extension": ".py",
   "mimetype": "text/x-python",
   "name": "python",
   "nbconvert_exporter": "python",
   "pygments_lexer": "ipython3",
   "version": "3.8.8"
  }
 },
 "nbformat": 4,
 "nbformat_minor": 2
}
